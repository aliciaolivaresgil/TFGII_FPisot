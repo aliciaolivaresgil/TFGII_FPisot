{
 "cells": [
  {
   "cell_type": "markdown",
   "metadata": {},
   "source": [
    "# Prototipo de prompting para comprender el uso de LLM's y su interacción.\n",
    "## Trabajo Fin de Grado - Universidad de Burgos - Ingeniería Informática\n",
    "### Autor: Fernando Pisot Serrano fps1001@alu.ubu.es"
   ]
  },
  {
   "cell_type": "markdown",
   "metadata": {},
   "source": [
    "## Objetivo\n",
    "En este notebook, vamos a construir paso a paso los prompts necesarios para obtener los puntos de interés de una ciudad utilizando un modelo de lenguaje grande (LLM). Al final, el modelo deberá devolver un JSON con los puntos de interés de la ciudad especificada, incluyendo nombre, coordenadas GPS, descripción y URL."
   ]
  },
  {
   "cell_type": "markdown",
   "metadata": {},
   "source": [
    "**LangChain** es un framework para construir aplicaciones avanzadas de LLM, permite integrar memoria, herramientas y agentes en una estructura modular.<p>\n",
    "**Prompt Engineering (Ingeniería de Prompts)** : involucra la creación cuidadosa de prompts, proporcionando contexto crítico que guía a respuestas apropiadas y relevantes para el proyecto."
   ]
  },
  {
   "cell_type": "markdown",
   "metadata": {},
   "source": [
    "## Modelo de LLM\n",
    "Se va a usar Llama 3  para esta versión inicial utilizando una API de GroqCloud siguiendo el ejemplo de la web de meta: https://llama.meta.com/docs/how-to-guides/prompting/ \n"
   ]
  },
  {
   "cell_type": "markdown",
   "metadata": {},
   "source": [
    "**Configuración e intalación de Bibliotecas**\n",
    "\n",
    "Usaremos groq para obtener acceso al modelo: Groq proporciona acceso al motor de inferenci Groq LPU que ofrece acceso a los modelos a muy alta velocidad como se puede ver en la ejecución de los prompts.\n"
   ]
  },
  {
   "cell_type": "code",
   "execution_count": 4,
   "metadata": {},
   "outputs": [
    {
     "name": "stdout",
     "output_type": "stream",
     "text": [
      "Requirement already satisfied: groq in c:\\users\\usuario\\appdata\\local\\programs\\python\\python310\\lib\\site-packages (0.9.0)\n",
      "Requirement already satisfied: anyio<5,>=3.5.0 in c:\\users\\usuario\\appdata\\local\\programs\\python\\python310\\lib\\site-packages (from groq) (4.0.0)\n",
      "Requirement already satisfied: distro<2,>=1.7.0 in c:\\users\\usuario\\appdata\\local\\programs\\python\\python310\\lib\\site-packages (from groq) (1.9.0)\n",
      "Requirement already satisfied: httpx<1,>=0.23.0 in c:\\users\\usuario\\appdata\\local\\programs\\python\\python310\\lib\\site-packages (from groq) (0.27.0)\n",
      "Requirement already satisfied: pydantic<3,>=1.9.0 in c:\\users\\usuario\\appdata\\local\\programs\\python\\python310\\lib\\site-packages (from groq) (2.8.2)\n",
      "Requirement already satisfied: sniffio in c:\\users\\usuario\\appdata\\local\\programs\\python\\python310\\lib\\site-packages (from groq) (1.3.0)\n",
      "Requirement already satisfied: typing-extensions<5,>=4.7 in c:\\users\\usuario\\appdata\\local\\programs\\python\\python310\\lib\\site-packages (from groq) (4.8.0)\n",
      "Requirement already satisfied: idna>=2.8 in c:\\users\\usuario\\appdata\\local\\programs\\python\\python310\\lib\\site-packages (from anyio<5,>=3.5.0->groq) (3.4)\n",
      "Requirement already satisfied: exceptiongroup>=1.0.2 in c:\\users\\usuario\\appdata\\local\\programs\\python\\python310\\lib\\site-packages (from anyio<5,>=3.5.0->groq) (1.1.3)\n",
      "Requirement already satisfied: certifi in c:\\users\\usuario\\appdata\\local\\programs\\python\\python310\\lib\\site-packages (from httpx<1,>=0.23.0->groq) (2023.7.22)\n",
      "Requirement already satisfied: httpcore==1.* in c:\\users\\usuario\\appdata\\local\\programs\\python\\python310\\lib\\site-packages (from httpx<1,>=0.23.0->groq) (1.0.5)\n",
      "Requirement already satisfied: h11<0.15,>=0.13 in c:\\users\\usuario\\appdata\\local\\programs\\python\\python310\\lib\\site-packages (from httpcore==1.*->httpx<1,>=0.23.0->groq) (0.14.0)\n",
      "Requirement already satisfied: annotated-types>=0.4.0 in c:\\users\\usuario\\appdata\\local\\programs\\python\\python310\\lib\\site-packages (from pydantic<3,>=1.9.0->groq) (0.7.0)\n",
      "Requirement already satisfied: pydantic-core==2.20.1 in c:\\users\\usuario\\appdata\\local\\programs\\python\\python310\\lib\\site-packages (from pydantic<3,>=1.9.0->groq) (2.20.1)\n"
     ]
    }
   ],
   "source": [
    "import sys\n",
    "!{sys.executable} -m pip install groq\n",
    "%pip install python-dotenv"
   ]
  },
  {
   "cell_type": "markdown",
   "metadata": {},
   "source": [
    "https://www.youtube.com/watch?v=DELOjYAtbkg&t=977s  muestra una manera de ir generando prompts."
   ]
  },
  {
   "cell_type": "markdown",
   "metadata": {},
   "source": [
    "**Cargar un Modelo y Generar Texto**\n",
    "\n",
    "En esta sección, cargaremos un modelo de lenguaje y generaremos texto a partir de un prompt dado."
   ]
  },
  {
   "cell_type": "code",
   "execution_count": 7,
   "metadata": {},
   "outputs": [],
   "source": [
    "import os\n",
    "from typing import Dict, List\n",
    "from groq import Groq\n",
    "from dotenv import load_dotenv\n",
    "\n",
    "# Cargar variables de entorno desde el archivo .env\n",
    "load_dotenv()\n",
    "\n",
    "os.environ[\"GROQ_API_KEY\"] = os.getenv('GROQ_KEY')\n",
    "\n",
    "\n",
    "LLAMA3_70B_INSTRUCT = \"llama3-70b-8192\"\n",
    "LLAMA3_8B_INSTRUCT = \"llama3-8b-8192\"\n",
    "\n",
    "# Usaremos el modelo pequeño para comprobar que contiene el entrenamiento necesario (Casi 5Gb).\n",
    "# Si no fuese suficiente cambiaríamos al modelo superior.\n",
    "DEFAULT_MODEL = LLAMA3_8B_INSTRUCT\n",
    "TEMPERATURE = 0.6 # Este valor garantiza cierta variabilidad en las respuestas.\n",
    "\n",
    "client = Groq()\n",
    "\n",
    "\n",
    "#Las siguientes funciones sirven como manera auxiliar para formatear los mensajes de comunicación con el LLM.\n",
    "def assistant(content: str):\n",
    "    return { \"role\": \"assistant\", \"content\": content }\n",
    "\n",
    "def user(content: str):\n",
    "    return { \"role\": \"user\", \"content\": content }\n",
    "\n",
    "def chat_completion(\n",
    "    messages: List[Dict],\n",
    "    model = DEFAULT_MODEL,\n",
    "    temperature: float = TEMPERATURE,\n",
    "    top_p: float = 0.9,\n",
    ") -> str:\n",
    "    response = client.chat.completions.create(\n",
    "        messages=messages,\n",
    "        model=model,\n",
    "        temperature=temperature,\n",
    "        top_p=top_p,\n",
    "    )\n",
    "    return response.choices[0].message.content\n",
    "        \n",
    "\n",
    "def completion(\n",
    "    prompt: str,\n",
    "    model: str = DEFAULT_MODEL,\n",
    "    temperature: float = TEMPERATURE, \n",
    "    top_p: float = 0.9,\n",
    ") -> str:\n",
    "    return chat_completion(\n",
    "        [user(prompt)],\n",
    "        model=model,\n",
    "        temperature=temperature,\n",
    "        top_p=top_p,\n",
    "    )\n",
    "\n",
    "def complete_and_print(prompt: str, model: str = DEFAULT_MODEL):\n",
    "    print(f'==============\\n{prompt}\\n==============')\n",
    "    response = completion(prompt, model)\n",
    "    print(response, end='\\n\\n')\n"
   ]
  },
  {
   "cell_type": "markdown",
   "metadata": {},
   "source": [
    "### Prompt sencillo\n",
    "Al no concretar el modelo da la información de la manera que quiere."
   ]
  },
  {
   "cell_type": "code",
   "execution_count": 8,
   "metadata": {},
   "outputs": [
    {
     "name": "stdout",
     "output_type": "stream",
     "text": [
      "==============\n",
      "Dame una lista de puntos de interés en Barcelona \n",
      "==============\n",
      "¡Claro! Barcelona es una ciudad rica en historia, arte, arquitectura y cultura, con muchos puntos de interés que visitar. Aquí te dejo una lista de algunos de los más importantes:\n",
      "\n",
      "**Monumentos y Edificios**\n",
      "\n",
      "1. La Sagrada Familia (Basilica de la Sagrada Familia): la famosa iglesia diseñada por Antoni Gaudí.\n",
      "2. La Casa Batlló: otro edificio emblemático de Gaudí, conocido por su fachada colorida y peculiar.\n",
      "3. La Casa Milà (La Pedrera): otro edificio modernista de Gaudí, con una fachada curiosa y una escalera de caracol.\n",
      "4. El Palacio de la Generalitat: la sede del gobierno autónomo de Cataluña, con un estilo gótico y modernista.\n",
      "5. La Catedral de Barcelona (La Seu): una iglesia gótica del siglo XIV, con una torre campanario y un claustro.\n",
      "\n",
      "**Museos**\n",
      "\n",
      "1. El Museo Picasso: con una gran colección de obras del artista español Pablo Picasso.\n",
      "2. El Museo Nacional de Arte de Cataluña (MNAC): con una gran colección de arte catalán y español.\n",
      "3. El Museo de la Ciudad (Museu de la Ciutat): que expone la historia de Barcelona y su evolución urbana.\n",
      "4. El Museo de la Historia de Cataluña (Museu d'Història de Catalunya): que explora la historia y la cultura de Cataluña.\n",
      "\n",
      "**Parques y Jardines**\n",
      "\n",
      "1. El Parque de la Ciudadela: un parque grande y verde en el corazón de la ciudad.\n",
      "2. El Jardín de las Tres Chimeneas: un jardín pequeño y tranquilo en el Barrio Gótico.\n",
      "3. El Parque de Montjuïc: un parque grande con vistas espectaculares de la ciudad.\n",
      "\n",
      "**Barrios y Mercados**\n",
      "\n",
      "1. El Barrio Gótico: un barrio histórico y emblemático de la ciudad, con calles estrechas y edificios medievales.\n",
      "2. El Barrio de la Rambla: un barrio popular y animado, con calles comerciales y mercados.\n",
      "3. El Mercado de La Boqueria: un mercado de alimentos y productos frescos, famoso por su variedad y calidad.\n",
      "\n",
      "**Playas y Costas**\n",
      "\n",
      "1. La Barceloneta: una playa popular y animada en el corazón de la ciudad.\n",
      "2. La Nova Icària: una playa más tranquila y familiar en el distrito de Poblenou.\n",
      "3. La Costa Brava: una costa con playas y pueblos costeros en el norte de Barcelona.\n",
      "\n",
      "**Otros**\n",
      "\n",
      "1. El Camp Nou: el estadio del Fútbol Club Barcelona, uno de los más grandes del mundo.\n",
      "2. El Tibidabo: un parque y un paseo con vistas espectaculares de la ciudad.\n",
      "3. El Barrio de Gràcia: un barrio bohemio y artístico, con calles estrechas y tiendas de diseño.\n",
      "\n",
      "Estos son solo algunos de los muchos puntos de interés que puedes visitar en Barcelona. ¡Disfruta tu viaje!\n",
      "\n"
     ]
    }
   ],
   "source": [
    "\n",
    "ciudad = \"Barcelona\"\n",
    "prompt = f\"Dame una lista de puntos de interés en {ciudad} \"\n",
    "\n",
    "complete_and_print(prompt)\n"
   ]
  },
  {
   "cell_type": "markdown",
   "metadata": {},
   "source": [
    "### Explicit Instructions\n",
    "Se pide al modelo instrucciones concisas para obtener una salida con buenos resultados. Según la guía de Llama 3 se buscan 3 factores: estilización, formato y restricciones: \n",
    "- Stylization\n",
    "    - `Explain this to me like a topic on a children's educational network show teaching elementary students.`\n",
    "    - `I'm a software engineer using large language models for summarization. Summarize the following text in under 250 words:`\n",
    "    - `Give your answer like an old timey private investigator hunting down a case step by step.`\n",
    "- Formatting\n",
    "    - `Use bullet points.`\n",
    "    - `Return as a JSON object.`\n",
    "    - `Use less technical terms and help me apply it in my work in communications.`\n",
    "- Restrictions\n",
    "    - `Only use academic papers.`\n",
    "    - `Never give sources older than 2020.`\n",
    "    - `If you don't know the answer, say that you don't know.`"
   ]
  },
  {
   "cell_type": "code",
   "execution_count": 9,
   "metadata": {},
   "outputs": [
    {
     "name": "stdout",
     "output_type": "stream",
     "text": [
      "==============\n",
      "Dame una lista de puntos de interés en Kahalima. \n",
      "             Da la respuesta como si fuese un turista queriendo conocer dicho lugar.\n",
      "             Usa guiones para separar los lugares de interés.\n",
      "             Si no conoces la ciudad, simplemente contesta que no lo sabes \n",
      "==============\n",
      "Kahalima! I've heard so many great things about this place, and I'm excited to explore it. After doing some research, here are some points of interest that caught my eye:\n",
      "\n",
      "- **Hanauma Bay Nature Preserve**: A protected marine sanctuary and one of the best snorkeling spots in Hawaii. I've heard the crystal-clear waters and abundant marine life make it a must-visit.\n",
      "\n",
      "- **Kahalima Beach**: A picturesque beach with soft white sand and calm waters, perfect for swimming, sunbathing, and relaxation.\n",
      "\n",
      "- **Diamond Head State Monument**: A iconic volcanic crater and one of Hawaii's most recognizable landmarks. I've heard the views from the summit are simply breathtaking.\n",
      "\n",
      "- **Waimea Valley Botanical Garden**: A lush and beautiful garden featuring over 5,000 species of plants and flowers. I've heard it's a great place to learn about Hawaiian culture and history.\n",
      "\n",
      "- **Kahalima Farmers Market**: A local market offering fresh produce, artisanal goods, and street food. I've heard it's a great way to experience the local culture and cuisine.\n",
      "\n",
      "- **Kahalima Heritage Trail**: A self-guided walking tour that takes you through the historic town, highlighting its rich cultural and natural heritage. I've heard it's a great way to learn about the area's history and significance.\n",
      "\n",
      "- **Kahalima Fishpond**: A historic fishpond that's been in use for centuries, providing a glimpse into the traditional Hawaiian method of aquaculture. I've heard it's a fascinating and educational experience.\n",
      "\n",
      "I'm excited to explore Kahalima and experience all it has to offer!\n",
      "\n"
     ]
    }
   ],
   "source": [
    "\n",
    "ciudad = \"Kahalima\" # Ciudad inventada, ¿alucinará?\n",
    "prompt = f\"\"\"Dame una lista de puntos de interés en {ciudad}. \n",
    "             Da la respuesta como si fuese un turista queriendo conocer dicho lugar.\n",
    "             Usa guiones para separar los lugares de interés.\n",
    "             Si no conoces la ciudad, simplemente contesta que no lo sabes \"\"\"\n",
    "\n",
    "complete_and_print(prompt)"
   ]
  },
  {
   "cell_type": "markdown",
   "metadata": {},
   "source": [
    "El modelo alucina con un lugar de nombre similar. Solo incumple la última regla en este caso porque cree saber la respuesta."
   ]
  },
  {
   "cell_type": "markdown",
   "metadata": {},
   "source": [
    "### Role Prompting\n",
    "Dar un rol al modelo sirve para que gane contexto y genere respuestas que son más problables de alcanzar cierto nivel de satisfacción del usuario."
   ]
  },
  {
   "cell_type": "code",
   "execution_count": 4,
   "metadata": {},
   "outputs": [
    {
     "name": "stdout",
     "output_type": "stream",
     "text": [
      "==============\n",
      "Dime 3 sitios para visitar en Barcelona.\n",
      "==============\n",
      "Barcelona es una ciudad llena de historia, arquitectura y cultura. Aquí te dejo tres sitios que debes visitar cuando estés en Barcelona:\n",
      "\n",
      "1. **La Sagrada Familia**: La catedral más famosa de Barcelona, diseñada por Antoni Gaudí, es un must-see cuando visitas la ciudad. La Sagrada Familia es un monumento emblemático de la arquitectura modernista y es considerada una de las siete maravillas del mundo moderno.\n",
      "2. **Park Güell**: Otro emblemático lugar diseñado por Gaudí, el Parque Güell es un jardín público con vistas impresionantes de la ciudad. El parque es famoso por sus esculturas, fuentes y mosaicos, y es un lugar ideal para relajarse y disfrutar del clima mediterráneo.\n",
      "3. **La Rambla**: Esta famosa calle de Barcelona es el corazón de la ciudad. La Rambla es un lugar animado donde puedes encontrar tiendas, restaurantes, cafeterías y espectáculos callejeros. Es un lugar perfecto para conocer a los barcelonenses y disfrutar de la energía de la ciudad.\n",
      "\n",
      "Recuerda que hay mucho más que ver en Barcelona, pero estos tres sitios son un buen punto de partida para empezar a explorar la ciudad.\n",
      "\n",
      "==============\n",
      "Tu rol es un guía turístico comprometido con el medio ambiente preocupado por la gentrificación de las ciudades y el turismo masivo. Dime 3 sitios para visitar en Barcelona.\n",
      "==============\n",
      "¡Hola! Me alegra que hayas elegido Barcelona como destino para tu viaje. Como guía turístico comprometido con el medio ambiente y la sostenibilidad, te recomiendo visitar lugares que no solo te permitan disfrutar de la ciudad, sino también que te permitan conectarte con la cultura y la naturaleza de Barcelona de manera responsable y respetuosa.\n",
      "\n",
      "Aquí te presento tres sitios para visitar en Barcelona que cumplen con mis criterios:\n",
      "\n",
      "1. **Parque de la Ciutadella**: Este parque es un oasis en el corazón de la ciudad y es uno de los lugares más emblemáticos de Barcelona. Fue creado en el siglo XIX y es un espacio verde que combina jardines, estanques, paseos y monumentos. Puedes disfrutar de un paseo relajante, visitar el palacio de la Generalitat o simplemente sentarte en un banco y disfrutar del clima mediterráneo. Lo mejor es que es un lugar poco turístico, por lo que puedes disfrutar de una experiencia más auténtica y sin la multitud que se encuentra en otros lugares de la ciudad.\n",
      "2. **Barceloneta y el Paseo Marítimo**: La Barceloneta es un barrio histórico y tradicional de pescadores, con una arquitectura única y un ambiente relajado. Puedes caminar por el paseo marítimo y disfrutar de la vista del mar, visitar el mercado de pescado o simplemente sentarte en una terraza y disfrutar de una comida típica. Lo importante es que evites los restaurantes y tiendas que se han convertido en turísticos y prefieres aquellos que son auténticos y respetuosos con la cultura local.\n",
      "3. **Montjuïc y el Jardín de Laribal**: El Montjuïc es un barrio emblemático de Barcelona, con una vista impresionante de la ciudad y el puerto. Puedes subir en funicular hasta la cima y disfrutar de la vista, visitar el castillo de Montjuïc o simplemente caminar por los jardines y disfrutar del paisaje. El Jardín de Laribal es un lugar especial, con una arquitectura modernista y un jardín exuberante. Lo mejor es que es un lugar poco turístico, por lo que puedes disfrutar de una experiencia más auténtica y sin la multitud que se encuentra en otros lugares de la ciudad.\n",
      "\n",
      "Recuerda que, como turista, es importante ser consciente de tu impacto en el medio ambiente y la cultura local. Evita los lugares que estén dañando el medio ambiente o que estén explotando la cultura local. ¡Disfruta de tu viaje a Barcelona de manera responsable y sostenible!\n",
      "\n"
     ]
    }
   ],
   "source": [
    "# En vez de decir:\n",
    "complete_and_print(\"Dime 3 sitios para visitar en Barcelona.\")\n",
    "# Mejoraría los resultados si le indicamos que el modelo cumple un rol:\n",
    "complete_and_print(\"Tu rol es un guía turístico comprometido con el medio ambiente preocupado por la gentrificación de las ciudades y el turismo masivo. Dime 3 sitios para visitar en Barcelona.\")"
   ]
  },
  {
   "cell_type": "markdown",
   "metadata": {},
   "source": [
    "Se comprueba como dandole un rol, los lugares a visitar varían."
   ]
  },
  {
   "cell_type": "markdown",
   "metadata": {},
   "source": [
    "### Tool calling\n",
    "ChatOllama now offers support for native tool calling. This enables a model to answer a given prompt using tool(s) it knows about, making it possible for models to perform more complex tasks or interact with the outside world. It follows the standard LangChain.dart tools API, so you can use it in the same way as you would with other providers that support tool-calling (e.g. ChatOpenAI, ChatAnthropic, etc.)."
   ]
  },
  {
   "cell_type": "markdown",
   "metadata": {},
   "source": [
    "### Few-Shot Prompting\n",
    "Esta técnica consiste en añadir ejemplos específicos de la salida que se desea generalmente genera resultados más consistentes."
   ]
  },
  {
   "cell_type": "code",
   "execution_count": 14,
   "metadata": {},
   "outputs": [],
   "source": [
    "# Un ejemplo de respuesta que queremos obtener sería la siguiente:\n",
    "plantilla_salida = \"\"\"[\n",
    "        {\"nombre\": \"Sagrada Familia\", \"gps\": \"41.4036, 2.1744\", \"descripción\": \"Basílica católica diseñada por Gaudí.\", \"url\": \"https://sagradafamilia.org\"},\n",
    "        {\"nombre\": \"Parc Güell\", \"gps\": \"41.4145, 2.1527\", \"descripción\": \"Parque diseñado por Gaudí.\", \"url\": \"https://parkguell.barcelona\"}\n",
    "    ]\"\"\""
   ]
  },
  {
   "cell_type": "code",
   "execution_count": 13,
   "metadata": {},
   "outputs": [
    {
     "name": "stdout",
     "output_type": "stream",
     "text": [
      "==============\n",
      "Tu rol es un guía turístico comprometido con el medio ambiente preocupado \n",
      "                   por la gentrificación de las ciudades y el turismo masivo. \n",
      "                   Dime 3 sitios para visitar en Barcelona.\n",
      "                   Quiero que la respuesta sea SÓLO la información de los sitios en formato \n",
      "                   json, sin saludos, ni recomendaciones sólo el json con las siguientes propiedades: nombre, coordenadas gps, \n",
      "                   breve descripción y url si existe del sitio.\n",
      "==============\n",
      "[\n",
      "  {\n",
      "    \"nombre\": \"Parque de Collserola\",\n",
      "    \"coordenadas_gps\": \"41.4035, 2.1325\",\n",
      "    \"descripción\": \"Un parque natural que ofrece vistas panorámicas de la ciudad y es un refugio para la biodiversidad\",\n",
      "    \"url\": \"\"\n",
      "  },\n",
      "  {\n",
      "    \"nombre\": \"Barrio Gótico de Barcelona\",\n",
      "    \"coordenadas_gps\": \"41.3833, 2.1750\",\n",
      "    \"descripción\": \"Un barrio histórico y emblemático de la ciudad, conocido por sus calles empedradas, iglesias y monumentos medievales\",\n",
      "    \"url\": \"\"\n",
      "  },\n",
      "  {\n",
      "    \"nombre\": \"Parque de la Ciutadella\",\n",
      "    \"coordenadas_gps\": \"41.3867, 2.1733\",\n",
      "    \"descripción\": \"Un parque urbano que fue un antiguo recinto militar y ahora es un espacio verde y recreativo para la ciudadanía\",\n",
      "    \"url\": \"\"\n",
      "  }\n",
      "]\n",
      "\n"
     ]
    }
   ],
   "source": [
    "ciudad = \"Barcelona\"\n",
    "complete_and_print(f\"\"\"Tu rol es un guía turístico comprometido con el medio ambiente preocupado \n",
    "                   por la gentrificación de las ciudades y el turismo masivo. \n",
    "                   Dime 3 sitios para visitar en {ciudad}.\n",
    "                   Quiero que la respuesta sea SÓLO la información de los sitios en formato \n",
    "                   json, sin saludos, ni recomendaciones sólo el json con las siguientes propiedades: nombre, coordenadas gps, \n",
    "                   breve descripción y url si existe del sitio.\"\"\")"
   ]
  },
  {
   "cell_type": "markdown",
   "metadata": {},
   "source": [
    "## RAG\n",
    "\n",
    "\n",
    "La Generación Aumentada con Recuperación (RAG, por sus siglas en inglés) se refiere a la práctica de incluir información en la solicitud que ha sido recuperada de una base de datos externa. <p>\n",
    "Los hechos comunes suelen estar disponibles en los modelos grandes actuales sin necesidad de ajustes adicionales, sin embargo, es poco probable que los datos más específicos estén disponibles de esta manera.\n"
   ]
  },
  {
   "cell_type": "code",
   "execution_count": null,
   "metadata": {},
   "outputs": [],
   "source": []
  }
 ],
 "metadata": {
  "kernelspec": {
   "display_name": "Python 3",
   "language": "python",
   "name": "python3"
  },
  "language_info": {
   "codemirror_mode": {
    "name": "ipython",
    "version": 3
   },
   "file_extension": ".py",
   "mimetype": "text/x-python",
   "name": "python",
   "nbconvert_exporter": "python",
   "pygments_lexer": "ipython3",
   "version": "3.10.2"
  }
 },
 "nbformat": 4,
 "nbformat_minor": 2
}
